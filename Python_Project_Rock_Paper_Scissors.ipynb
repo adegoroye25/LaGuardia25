{
  "nbformat": 4,
  "nbformat_minor": 0,
  "metadata": {
    "colab": {
      "provenance": []
    },
    "kernelspec": {
      "name": "python3",
      "display_name": "Python 3"
    },
    "language_info": {
      "name": "python"
    }
  },
  "cells": [
    {
      "cell_type": "markdown",
      "source": [
        "**Python Project: Rock-Paper-Scissors**\n",
        "\n",
        "Make a two-player Rock-Paper-Scissors game.\n",
        "(Hint: Ask for player plays (using input),\n",
        "compare them,\n",
        "print out a message of congratulations to the winner,\n",
        "and ask if the players want to start a new game)\n",
        "\n",
        "Remember the rules:\n",
        "1.   Rock beats scissors\n",
        "2.   Scissors beats paper\n",
        "3.   Paper beats rock"
      ],
      "metadata": {
        "id": "vsJHSG60Et-3"
      }
    },
    {
      "cell_type": "code",
      "execution_count": null,
      "metadata": {
        "id": "oufQnxgkJfGZ",
        "colab": {
          "base_uri": "https://localhost:8080/"
        },
        "outputId": "0ed79544-a59f-4f33-c8ef-f5724abcdb30"
      },
      "outputs": [
        {
          "name": "stdout",
          "output_type": "stream",
          "text": [
            "Welcome to Rock-Paper-Scissors\n",
            "Player1: ROCK, PAPER, OR SCISSORS? rock\n",
            "Player2: ROCK, PAPER, OR SCISSORS? scissors\n",
            "Congratulations! Player One has won! \n",
            "Play Again? YES OR NO? YES\n",
            "Welcome to Rock-Paper-Scissors\n",
            "Player1: ROCK, PAPER, OR SCISSORS? scissors\n",
            "Player2: ROCK, PAPER, OR SCISSORS? rock\n",
            "Congratulations! Player Two has won! \n",
            "Play Again? YES OR NO? No\n"
          ]
        }
      ],
      "source": [
        "playAgain = 'yes'\n",
        "\n",
        "while(playAgain.lower() == 'yes'):\n",
        "  print(\"Welcome to Rock-Paper-Scissors\")\n",
        "  PlayerOneInput = input(\"Player1: ROCK, PAPER, OR SCISSORS? \")\n",
        "  PlayerTwoInput = input(\"Player2: ROCK, PAPER, OR SCISSORS? \")\n",
        "  if(PlayerOneInput == PlayerTwoInput):\n",
        "    print(\"The game is Tied\")\n",
        "    playAgain = input(\"Play Again? YES OR NO? \")\n",
        "\n",
        "  elif((PlayerOneInput.lower() == \"rock\" and PlayerTwoInput.lower() == \"scissors\") or\n",
        "       (PlayerOneInput.lower() == \"scissors\" and PlayerTwoInput.lower() == \"paper\") or\n",
        "       (PlayerOneInput.lower() == \"paper\" and PlayerTwoInput.lower() == \"rock\")):\n",
        "       print(\"Congratulations! Player One has won! \")\n",
        "       playAgain = input(\"Play Again? YES OR NO? \")\n",
        "  elif((PlayerTwoInput.lower() == \"rock\" and PlayerOneInput.lower() == \"scissors\") or\n",
        "       (PlayerTwoInput.lower() == \"scissors\" and PlayerOneInput.lower() == \"paper\") or\n",
        "       (PlayerTwoInput.lower() == \"paper\" and PlayerOneInput.lower() == \"rock\")):\n",
        "       print(\"Congratulations! Player Two has won! \")\n",
        "       playAgain = input(\"Play Again? YES OR NO? \")\n",
        "\n",
        "  else:\n",
        "    print(\"ERROR\")\n",
        "    playAgain = input(\"play Again? YES OR NO? \")"
      ]
    }
  ]
}